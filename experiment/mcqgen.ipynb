{
 "cells": [
  {
   "cell_type": "code",
   "execution_count": 30,
   "id": "128a5bf2",
   "metadata": {},
   "outputs": [],
   "source": [
    "import os"
   ]
  },
  {
   "cell_type": "code",
   "execution_count": null,
   "id": "6569eb34",
   "metadata": {},
   "outputs": [],
   "source": []
  },
  {
   "cell_type": "code",
   "execution_count": 29,
   "id": "3d6340f4",
   "metadata": {},
   "outputs": [
    {
     "ename": "NameError",
     "evalue": "name 'GROQ_API_KEY' is not defined",
     "output_type": "error",
     "traceback": [
      "\u001b[31m---------------------------------------------------------------------------\u001b[39m",
      "\u001b[31mNameError\u001b[39m                                 Traceback (most recent call last)",
      "\u001b[36mCell\u001b[39m\u001b[36m \u001b[39m\u001b[32mIn[29]\u001b[39m\u001b[32m, line 14\u001b[39m\n\u001b[32m     11\u001b[39m load_dotenv(dotenv_path=\u001b[33m\"\u001b[39m\u001b[33msrc/.env\u001b[39m\u001b[33m\"\u001b[39m)\n\u001b[32m     13\u001b[39m key = os.getenv(\u001b[33m\"\u001b[39m\u001b[33mGROQ_API_KEY\u001b[39m\u001b[33m\"\u001b[39m)\n\u001b[32m---> \u001b[39m\u001b[32m14\u001b[39m \u001b[38;5;28mprint\u001b[39m(\u001b[33m\"\u001b[39m\u001b[33mGROQ_API_KEY:\u001b[39m\u001b[33m\"\u001b[39m,\u001b[43mGROQ_API_KEY\u001b[49m )\n",
      "\u001b[31mNameError\u001b[39m: name 'GROQ_API_KEY' is not defined"
     ]
    }
   ],
   "source": [
    "import json\n",
    "import pandas as pd\n",
    "import traceback\n",
    "from langchain_groq import ChatGroq\n",
    "import os\n",
    "import langchain\n",
    "import langchain_groq\n",
    "\n",
    "from dotenv import load_dotenv\n",
    "\n",
    "load_dotenv(dotenv_path=\"src/.env\")\n",
    "\n",
    "key = os.getenv(\"GROQ_API_KEY\")\n",
    "print(\"GROQ_API_KEY:\",GROQ_API_KEY )\n",
    "\n"
   ]
  },
  {
   "cell_type": "code",
   "execution_count": 2,
   "id": "6aa06f6e",
   "metadata": {},
   "outputs": [],
   "source": [
    "from langchain_groq import ChatGroq\n",
    "from langchain.prompts import PromptTemplate\n",
    "from langchain.chains import LLMChain, SequentialChain\n",
    "\n"
   ]
  },
  {
   "cell_type": "code",
   "execution_count": 16,
   "id": "3f57bb87",
   "metadata": {},
   "outputs": [],
   "source": [
    "from langchain.callbacks.base import BaseCallbackHandler\n",
    "\n",
    "class GroqCallbackHandler(BaseCallbackHandler):\n",
    "    def __init__(self):\n",
    "        self.request_count = 0\n",
    "\n",
    "    def on_llm_start(self, serialized, prompts, **kwargs):\n",
    "        self.request_count += 1\n",
    "        print(f\"Request #{self.request_count} started with prompts: {prompts}\")\n",
    "\n",
    "    def on_llm_end(self, response, **kwargs):\n",
    "        print(f\"Request #{self.request_count} finished with response: {response}\\n\")\n",
    "\n",
    "    def on_llm_error(self, error, **kwargs):\n",
    "        print(f\"Request #{self.request_count} encountered an error: {error}\\n\")\n",
    "\n"
   ]
  },
  {
   "cell_type": "code",
   "execution_count": 15,
   "id": "366b8900",
   "metadata": {},
   "outputs": [
    {
     "ename": "NameError",
     "evalue": "name 'GROQ_API_KEY' is not defined",
     "output_type": "error",
     "traceback": [
      "\u001b[31m---------------------------------------------------------------------------\u001b[39m",
      "\u001b[31mNameError\u001b[39m                                 Traceback (most recent call last)",
      "\u001b[36mCell\u001b[39m\u001b[36m \u001b[39m\u001b[32mIn[15]\u001b[39m\u001b[32m, line 1\u001b[39m\n\u001b[32m----> \u001b[39m\u001b[32m1\u001b[39m llm = ChatGroq(groq_api_key=\u001b[43mGROQ_API_KEY\u001b[49m, model_name=\u001b[33m\"\u001b[39m\u001b[33mgpt-3.5-turbo\u001b[39m\u001b[33m\"\u001b[39m, temperature=\u001b[32m0.5\u001b[39m)\n",
      "\u001b[31mNameError\u001b[39m: name 'GROQ_API_KEY' is not defined"
     ]
    }
   ],
   "source": [
    "llm = ChatGroq(groq_api_key=GROQ_API_KEY, model_name=\"gpt-3.5-turbo\", temperature=0.5)"
   ]
  },
  {
   "cell_type": "code",
   "execution_count": 9,
   "id": "214bf07f",
   "metadata": {},
   "outputs": [
    {
     "ename": "ImportError",
     "evalue": "cannot import name 'GroqCallbackHandler' from 'langchain.callbacks' (c:\\Users\\Sai Sanjith\\mcqgenerator\\venv\\Lib\\site-packages\\langchain\\callbacks\\__init__.py)",
     "output_type": "error",
     "traceback": [
      "\u001b[31m---------------------------------------------------------------------------\u001b[39m",
      "\u001b[31mImportError\u001b[39m                               Traceback (most recent call last)",
      "\u001b[36mCell\u001b[39m\u001b[36m \u001b[39m\u001b[32mIn[9]\u001b[39m\u001b[32m, line 1\u001b[39m\n\u001b[32m----> \u001b[39m\u001b[32m1\u001b[39m \u001b[38;5;28;01mfrom\u001b[39;00m\u001b[38;5;250m  \u001b[39m\u001b[34;01mlangchain\u001b[39;00m\u001b[34;01m.\u001b[39;00m\u001b[34;01mcallbacks\u001b[39;00m\u001b[38;5;250m \u001b[39m\u001b[38;5;28;01mimport\u001b[39;00m  GroqCallbackHandler\n",
      "\u001b[31mImportError\u001b[39m: cannot import name 'GroqCallbackHandler' from 'langchain.callbacks' (c:\\Users\\Sai Sanjith\\mcqgenerator\\venv\\Lib\\site-packages\\langchain\\callbacks\\__init__.py)"
     ]
    }
   ],
   "source": [
    "from  langchain.callbacks import  GroqCallbackHandler\n"
   ]
  },
  {
   "cell_type": "code",
   "execution_count": null,
   "id": "581064c0",
   "metadata": {},
   "outputs": [],
   "source": []
  }
 ],
 "metadata": {
  "kernelspec": {
   "display_name": "venv",
   "language": "python",
   "name": "python3"
  },
  "language_info": {
   "codemirror_mode": {
    "name": "ipython",
    "version": 3
   },
   "file_extension": ".py",
   "mimetype": "text/x-python",
   "name": "python",
   "nbconvert_exporter": "python",
   "pygments_lexer": "ipython3",
   "version": "3.13.5"
  }
 },
 "nbformat": 4,
 "nbformat_minor": 5
}
